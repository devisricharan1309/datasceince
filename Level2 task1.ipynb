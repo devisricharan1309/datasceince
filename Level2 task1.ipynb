{
 "cells": [
  {
   "cell_type": "markdown",
   "id": "a28f2fee-3fa3-4fcc-8b8c-d4c51c55e472",
   "metadata": {},
   "source": [
    "# LEVEL 2 TASK 1\n",
    "# TASK: TABLE BOOKING AND ONLINE DELIVERY"
   ]
  },
  {
   "cell_type": "raw",
   "id": "a5d54164-02d8-4762-b42a-cc0d3278ef74",
   "metadata": {},
   "source": [
    "Find the percentage of restaurants that offer online reservations and delivery\n",
    "To determine the percentage, we can simply count the number of tables already booked and divide by the total number of restaurants, multiplied by another 100. The same can be done for orders with online delivery.\n",
    "Compare average ratings for restaurants with reservations and restaurants without reservations.\n",
    "We find the mean with the attribute usinf .mean() . We have to do this for restaurants with and without reservations.\n",
    "Analyze online delivery availability among restaurants in different price ranges.\n",
    "To analyze the availability of different prices, we divided the prices into three categories: low, medium and high. of."
   ]
  },
  {
   "cell_type": "code",
   "execution_count": 1,
   "id": "94715745-0a30-4365-9af1-353517759151",
   "metadata": {},
   "outputs": [],
   "source": [
    "import pandas as pd\n",
    "import numpy as np\n",
    "import matplotlib.pyplot as plt\n",
    "import seaborn as sns\n",
    "df=pd.read_csv(\"Dataset .csv\")"
   ]
  },
  {
   "cell_type": "code",
   "execution_count": 2,
   "id": "46f0ee30-6136-4336-8af9-abbccce7633b",
   "metadata": {},
   "outputs": [
    {
     "name": "stdout",
     "output_type": "stream",
     "text": [
      "Percentage of restaurants offering Table Booking: 14.17%\n",
      "Percentage of restaurants offering Online Delivery: 26.37%\n"
     ]
    }
   ],
   "source": [
    "total_restaurants = len(df)\n",
    "table_booking_percentage = (df['Has Table booking'] == 'Yes').sum() / total_restaurants * 100\n",
    "online_delivery_percentage = (df['Has Online delivery'] == 'Yes').sum() / total_restaurants * 100\n",
    "print(f\"Percentage of restaurants offering Table Booking: {table_booking_percentage:.2f}%\")\n",
    "print(f\"Percentage of restaurants offering Online Delivery: {online_delivery_percentage:.2f}%\")"
   ]
  },
  {
   "cell_type": "code",
   "execution_count": 3,
   "id": "3270be17-a557-4561-ad09-abdce4e25acf",
   "metadata": {},
   "outputs": [
    {
     "name": "stdout",
     "output_type": "stream",
     "text": [
      "Average rating with Table Booking: 3.55\n",
      "Average rating without Table Booking: 2.88\n"
     ]
    }
   ],
   "source": [
    "avg_rating_with_table = df[df['Has Table booking'] == 'Yes']['Aggregate rating'].mean()\n",
    "avg_rating_without_table = df[df['Has Table booking'] == 'No']['Aggregate rating'].mean()\n",
    "print(f\"Average rating with Table Booking: {avg_rating_with_table:.2f}\")\n",
    "print(f\"Average rating without Table Booking: {avg_rating_without_table:.2f}\")"
   ]
  },
  {
   "cell_type": "code",
   "execution_count": 4,
   "id": "9f3bd68e-a5b5-431c-a957-66046035e5b9",
   "metadata": {},
   "outputs": [
    {
     "name": "stdout",
     "output_type": "stream",
     "text": [
      "Online Delivery Availability by Price Range:\n",
      "Has Online delivery         No       Yes\n",
      "Average Cost for two                    \n",
      "High                  0.716570  0.283430\n",
      "Low                   0.850834  0.149166\n",
      "Medium                0.576181  0.423819\n"
     ]
    }
   ],
   "source": [
    "price_ranges = df['Average Cost for two'].apply(lambda x: 'Low' if x < 500 else 'Medium' if 500 <= x <= 1000 else 'High')\n",
    "online_delivery_by_price_range = df.groupby(price_ranges)['Has Online delivery'].value_counts(normalize=True).unstack()\n",
    "print(\"Online Delivery Availability by Price Range:\")\n",
    "print(online_delivery_by_price_range)"
   ]
  },
  {
   "cell_type": "code",
   "execution_count": null,
   "id": "2d7bb044-10ed-461b-a54a-697802c0282c",
   "metadata": {},
   "outputs": [],
   "source": []
  }
 ],
 "metadata": {
  "kernelspec": {
   "display_name": "Python 3 (ipykernel)",
   "language": "python",
   "name": "python3"
  },
  "language_info": {
   "codemirror_mode": {
    "name": "ipython",
    "version": 3
   },
   "file_extension": ".py",
   "mimetype": "text/x-python",
   "name": "python",
   "nbconvert_exporter": "python",
   "pygments_lexer": "ipython3",
   "version": "3.12.4"
  }
 },
 "nbformat": 4,
 "nbformat_minor": 5
}
